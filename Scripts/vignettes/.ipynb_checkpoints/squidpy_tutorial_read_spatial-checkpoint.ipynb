{
 "cells": [
  {
   "cell_type": "code",
   "execution_count": 1,
   "metadata": {},
   "outputs": [],
   "source": [
    "%matplotlib inline"
   ]
  },
  {
   "cell_type": "markdown",
   "metadata": {},
   "source": [
    "Import spatial data in AnnData and Squidpy\n",
    "==========================================\n",
    "\n",
    "This tutorial shows how to store spatial datasets in anndata.AnnData.\n",
    "\n",
    "Spatial molecular data comes in many different formats, and to date\n",
    "there is no one-size-fit-all solution for reading spatial data in\n",
    "python. Scanpy already provides a solution for Visium Spatial\n",
    "transcriptomics data with the function scanpy.read\\_visium but that is\n",
    "basically it. Here in Squidpy, we do provide some pre-processed (and\n",
    "pre-formatted) datasets, with the module squidpy.datasets but it's not\n",
    "very useful for the users who need to import their own data.\n",
    "\n",
    "In this tutorial, we will showcase how spatial data are stored in\n",
    "anndata.AnnData. We will use mock datasets for this purpose, yet showing\n",
    "with examples the important details that you should take care of in\n",
    "order to exploit the full functionality of the *AnnData-Scanpy-Squidpy*\n",
    "ecosystem.\n"
   ]
  },
  {
   "cell_type": "code",
   "execution_count": 2,
   "metadata": {},
   "outputs": [
    {
     "name": "stdout",
     "output_type": "stream",
     "text": [
      "scanpy==1.7.1 anndata==0.7.5 umap==0.5.1 numpy==1.19.2 scipy==1.6.2 pandas==1.2.3 scikit-learn==0.24.1 statsmodels==0.12.2 python-igraph==0.9.1 leidenalg==0.8.3\n",
      "squidpy==1.0.0\n"
     ]
    }
   ],
   "source": [
    "from anndata import AnnData\n",
    "import scanpy as sc\n",
    "import squidpy as sq\n",
    "\n",
    "from numpy.random import default_rng\n",
    "\n",
    "import matplotlib.pyplot as plt\n",
    "\n",
    "sc.logging.print_header()\n",
    "print(f\"squidpy=={sq.__version__}\")"
   ]
  },
  {
   "cell_type": "markdown",
   "metadata": {},
   "source": [
    "Spatial coordinates in AnnData\n",
    "==============================\n",
    "\n",
    "First, let's generate some data. We will need:\n",
    "\n",
    "-   an array of features (e.g. counts)\n",
    "-   an array of spatial coordinates\n",
    "-   an image array (e.g. the tissue image)\n",
    "\n"
   ]
  },
  {
   "cell_type": "code",
   "execution_count": null,
   "metadata": {},
   "outputs": [],
   "source": [
    "rng = default_rng(42)\n",
    "counts = rng.integers(0, 15, size=(10, 100))  # feature matrix\n",
    "coordinates = rng.uniform(0, 10, size=(10, 2))  # spatial coordinates\n",
    "image = rng.uniform(0, 1, size=(10, 10, 3))  # image"
   ]
  },
  {
   "cell_type": "markdown",
   "metadata": {},
   "source": [
    "Let's first start with creating the anndata.AnnData object. We will\n",
    "first just use the count matrix and the spatial coordinates. Specify the\n",
    "anndata.AnnData.obsm key as \"spatial\" is not strictly necessary but will\n",
    "save you a lot of typing since it's the default for both Squidpy and\n",
    "Scanpy.\n"
   ]
  },
  {
   "cell_type": "code",
   "execution_count": null,
   "metadata": {},
   "outputs": [],
   "source": [
    "adata = AnnData(counts, obsm={\"spatial\": coordinates})"
   ]
  },
  {
   "cell_type": "markdown",
   "metadata": {},
   "source": [
    "Next, let's run a standard Scanpy clustering and umap workflow.\n"
   ]
  },
  {
   "cell_type": "code",
   "execution_count": null,
   "metadata": {},
   "outputs": [],
   "source": [
    "sc.pp.normalize_total(adata)\n",
    "sc.pp.log1p(adata)\n",
    "sc.pp.pca(adata)\n",
    "sc.pp.neighbors(adata)\n",
    "sc.tl.umap(adata)\n",
    "sc.tl.leiden(adata)\n",
    "adata"
   ]
  },
  {
   "cell_type": "markdown",
   "metadata": {},
   "source": [
    "We can visualize the dummy cluster annotation `adata.obs['leiden']` in\n",
    "space.\n"
   ]
  },
  {
   "cell_type": "code",
   "execution_count": null,
   "metadata": {},
   "outputs": [],
   "source": [
    "sc.pl.spatial(adata, color=\"leiden\", spot_size=1)"
   ]
  },
  {
   "cell_type": "markdown",
   "metadata": {},
   "source": [
    "Tissue image in AnnData\n",
    "=======================\n",
    "\n",
    "For use cases where there is no tissue image, this is all you need to\n",
    "start using Scanpy/Squidpy for your analysis. For instance, you can\n",
    "compute a spatial graph with squidpy.gr.spatial\\_neighbors based on a\n",
    "fixed neighbor radius that is informative given your experimental\n",
    "settings.\n"
   ]
  },
  {
   "cell_type": "code",
   "execution_count": null,
   "metadata": {},
   "outputs": [],
   "source": [
    "sq.gr.spatial_neighbors(adata, radius=3.0)\n",
    "sc.pl.spatial(adata, color=\"leiden\", neighbors_key=\"spatial_neighbors\", spot_size=1, edges=True, edges_width=2)"
   ]
  },
  {
   "cell_type": "markdown",
   "metadata": {},
   "source": [
    "In case you do have an image of the tissue (or multiple, at different\n",
    "resolutions) this is what you need to know to correctly store it in\n",
    "AnnData. First, let's visualize the mock image from before.\n"
   ]
  },
  {
   "cell_type": "code",
   "execution_count": null,
   "metadata": {},
   "outputs": [],
   "source": [
    "plt.imshow(image)"
   ]
  },
  {
   "cell_type": "markdown",
   "metadata": {},
   "source": [
    "The image and its metadata are stored in the uns slot of\n",
    "anndata.AnnData. Specifically, in the\n",
    "`adata.uns['spatial']['{library_id}']` slot, where library\\_id is any\n",
    "unique key that refers to the tissue image.\n",
    "\n",
    "For now, we will assume that there is only one image. This is the\n",
    "necessary metadata: - \\`tissue\\_hires\\_scalef\\`: this is the scale\n",
    "factor between the spatial coordinates units and the image pixels. In\n",
    "the case of Visium, this is usually \\~0.17. In this case, we assume that\n",
    "the spatial coordinates are in the same scale of the pixels, and so we\n",
    "will set this value to 1. - \\`spot\\_diameter\\_fullres\\`: this is the\n",
    "diameter of the capture area for each observation. In the case of\n",
    "Visium, we usually call them \"spots\" and this value is set to \\~89.\n",
    "Here, we will set it to 0.5.\n"
   ]
  },
  {
   "cell_type": "code",
   "execution_count": null,
   "metadata": {},
   "outputs": [],
   "source": [
    "spatial_key = \"spatial\"\n",
    "library_id = \"tissue42\"\n",
    "adata.uns[spatial_key] = {library_id: {}}\n",
    "adata.uns[spatial_key][library_id][\"images\"] = {}\n",
    "adata.uns[spatial_key][library_id][\"images\"] = {\"hires\": image}\n",
    "adata.uns[spatial_key][library_id][\"scalefactors\"] = {\"tissue_hires_scalef\": 1, \"spot_diameter_fullres\": 0.5}"
   ]
  },
  {
   "cell_type": "markdown",
   "metadata": {},
   "source": [
    "We don't provide the flexibility (yet) to change the values of such\n",
    "keys. These are the keys provided by the Space Ranger output from 10x\n",
    "Genomics Visium and therefore were the first to be adopted. In the\n",
    "future, we might settle to a sightly different structure. But for now,\n",
    "if all such key are correct, scanpy.pl.spatial works out of the box.\n"
   ]
  },
  {
   "cell_type": "code",
   "execution_count": null,
   "metadata": {},
   "outputs": [],
   "source": [
    "sc.pl.spatial(adata, color=\"leiden\")"
   ]
  },
  {
   "cell_type": "markdown",
   "metadata": {},
   "source": [
    "You can fiddle around with the settings to see what changes. For\n",
    "instance, let's change tissue\\_hires\\_scalef to half the previous value.\n"
   ]
  },
  {
   "cell_type": "code",
   "execution_count": null,
   "metadata": {},
   "outputs": [],
   "source": [
    "adata.uns[spatial_key][library_id][\"scalefactors\"] = {\"tissue_hires_scalef\": 0.5, \"spot_diameter_fullres\": 0.5}\n",
    "sc.pl.spatial(adata, color=\"leiden\")"
   ]
  },
  {
   "cell_type": "markdown",
   "metadata": {},
   "source": [
    "As you can see, the spatial coordinates have been scaled down, and the\n",
    "image was \"zoomed in\".\n",
    "\n",
    "Of course, you might want to \"analyze\" such image.\n",
    "squidpy.im.ImageContainer comes to the rescue! Just instantiate a new\n",
    "object and it will work out of the box.\n"
   ]
  },
  {
   "cell_type": "code",
   "execution_count": null,
   "metadata": {},
   "outputs": [],
   "source": [
    "img = sq.im.ImageContainer(image)\n",
    "img.show()"
   ]
  }
 ],
 "metadata": {
  "kernelspec": {
   "display_name": "Python 3",
   "language": "python",
   "name": "python3"
  },
  "language_info": {
   "codemirror_mode": {
    "name": "ipython",
    "version": 3
   },
   "file_extension": ".py",
   "mimetype": "text/x-python",
   "name": "python",
   "nbconvert_exporter": "python",
   "pygments_lexer": "ipython3",
   "version": "3.7.10"
  }
 },
 "nbformat": 4,
 "nbformat_minor": 1
}
