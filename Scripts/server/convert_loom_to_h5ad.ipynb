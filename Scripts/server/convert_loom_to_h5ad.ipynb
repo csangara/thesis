{
 "cells": [
  {
   "cell_type": "code",
   "execution_count": 2,
   "metadata": {},
   "outputs": [
    {
     "name": "stdout",
     "output_type": "stream",
     "text": [
      "3.0.6\n"
     ]
    }
   ],
   "source": [
    "import scanpy as sc\n",
    "import loompy\n",
    "print(loompy.__version__)"
   ]
  },
  {
   "cell_type": "markdown",
   "metadata": {},
   "source": [
    "## Synthvisium"
   ]
  },
  {
   "cell_type": "code",
   "execution_count": 7,
   "metadata": {},
   "outputs": [],
   "source": [
    "possible_dataset_types = [\"real\", \"real_top1\",\"real_top1_uniform\",\"real_top2_overlap\",\"real_top2_overlap_uniform\",\n",
    "                           \"real_missing_celltypes_visium\", \"artificial_uniform_distinct\", \"artificial_diverse_distinct\",\n",
    "                           \"artificial_uniform_overlap\", \"artificial_diverse_overlap\", \"artificial_dominant_celltype_diverse\",\n",
    "                           \"artificial_partially_dominant_celltype_diverse\", \"artificial_missing_celltypes_visium\"]"
   ]
  },
  {
   "cell_type": "code",
   "execution_count": 3,
   "metadata": {},
   "outputs": [
    {
     "name": "stdout",
     "output_type": "stream",
     "text": [
      "artificial_diverse_overlap\n"
     ]
    },
    {
     "name": "stderr",
     "output_type": "stream",
     "text": [
      "... storing 'ClusterName' as categorical\n",
      "... storing 'SCT_snn_res_0_5' as categorical\n",
      "... storing 'orig_ident' as categorical\n",
      "... storing 'seurat_clusters' as categorical\n"
     ]
    }
   ],
   "source": [
    "for dataset_type in possible_dataset_types:\n",
    "    if dataset_type == \"artificial_uniform_distinct\":\n",
    "        continue\n",
    "    print(dataset_type)\n",
    "    adata = sc.read_loom(\"data/allen_cortex_dwn_\" + dataset_type + \"_synthvisium.loom\")\n",
    "    adata.write(\"data/allen_cortex_dwn_\" + dataset_type + \"_synthvisium.h5ad\")"
   ]
  },
  {
   "cell_type": "code",
   "execution_count": 62,
   "metadata": {},
   "outputs": [],
   "source": [
    "sp_data_folder = '/srv/scratch/chananchidas/data/raw/'\n",
    "sc_data_folder = '/srv/scratch/chananchidas/data/raw/'\n",
    "results_folder = '/srv/scratch/chananchidas/results/'"
   ]
  },
  {
   "cell_type": "code",
   "execution_count": 67,
   "metadata": {},
   "outputs": [],
   "source": [
    "dataset_type = \"real\"\n",
    "adata = sc.read_h5ad(sp_data_folder + \"allen_cortex_dwn_\" + dataset_type + \"_synthvisium.h5ad\")"
   ]
  },
  {
   "cell_type": "code",
   "execution_count": 71,
   "metadata": {},
   "outputs": [],
   "source": [
    "adata_ref = sc.read_h5ad(sc_data_folder + \"allen_cortex_dwn_original.h5ad\")"
   ]
  },
  {
   "cell_type": "markdown",
   "metadata": {},
   "source": [
    "## Misc"
   ]
  },
  {
   "cell_type": "code",
   "execution_count": 3,
   "metadata": {},
   "outputs": [
    {
     "name": "stderr",
     "output_type": "stream",
     "text": [
      "... storing 'brain_hemisphere' as categorical\n",
      "... storing 'brain_region' as categorical\n",
      "... storing 'brain_subregion' as categorical\n",
      "... storing 'class' as categorical\n",
      "... storing 'cluster' as categorical\n",
      "... storing 'core_intermediate_call' as categorical\n",
      "... storing 'driver_lines' as categorical\n",
      "... storing 'eye_condition' as categorical\n",
      "... storing 'facs_container' as categorical\n",
      "... storing 'facs_date' as categorical\n",
      "... storing 'facs_sort_criteria' as categorical\n",
      "... storing 'genotype' as categorical\n",
      "... storing 'injection_exclusion_criterion' as categorical\n",
      "... storing 'injection_label_direction' as categorical\n",
      "... storing 'injection_material' as categorical\n",
      "... storing 'injection_primary' as categorical\n",
      "... storing 'injection_secondary' as categorical\n",
      "... storing 'injection_tract' as categorical\n",
      "... storing 'organism' as categorical\n",
      "... storing 'reporter_lines' as categorical\n",
      "... storing 'rna_amplification_set' as categorical\n",
      "... storing 'sample_type' as categorical\n",
      "... storing 'seq_batch' as categorical\n",
      "... storing 'seq_tube' as categorical\n",
      "... storing 'sex' as categorical\n",
      "... storing 'subclass' as categorical\n"
     ]
    }
   ],
   "source": [
    "adata = sc.read_loom(\"data/seurat_obj_scrnaseq_cortex_filtered_rawcounts.loom\")\n",
    "adata.write(\"data/seurat_obj_scrnaseq_cortex_filtered_rawcounts.h5ad\")"
   ]
  }
 ],
 "metadata": {
  "kernelspec": {
   "display_name": "Python 3",
   "language": "python",
   "name": "python3"
  },
  "language_info": {
   "codemirror_mode": {
    "name": "ipython",
    "version": 3
   },
   "file_extension": ".py",
   "mimetype": "text/x-python",
   "name": "python",
   "nbconvert_exporter": "python",
   "pygments_lexer": "ipython3",
   "version": "3.7.3"
  }
 },
 "nbformat": 4,
 "nbformat_minor": 4
}
