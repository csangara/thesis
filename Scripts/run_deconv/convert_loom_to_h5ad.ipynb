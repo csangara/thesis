{
 "cells": [
  {
   "cell_type": "code",
   "execution_count": 1,
   "metadata": {},
   "outputs": [
    {
     "name": "stderr",
     "output_type": "stream",
     "text": [
      "\n",
      "Bad key savefig.frameon in file /srv/scratch/chananchidas/anaconda3/lib/python3.7/site-packages/matplotlib/mpl-data/stylelib/_classic_test.mplstyle, line 421 ('savefig.frameon : True')\n",
      "You probably need to get an updated matplotlibrc file from\n",
      "https://github.com/matplotlib/matplotlib/blob/v3.3.4/matplotlibrc.template\n",
      "or from the matplotlib source distribution\n",
      "\n",
      "Bad key verbose.level in file /srv/scratch/chananchidas/anaconda3/lib/python3.7/site-packages/matplotlib/mpl-data/stylelib/_classic_test.mplstyle, line 472 ('verbose.level  : silent      # one of silent, helpful, debug, debug-annoying')\n",
      "You probably need to get an updated matplotlibrc file from\n",
      "https://github.com/matplotlib/matplotlib/blob/v3.3.4/matplotlibrc.template\n",
      "or from the matplotlib source distribution\n",
      "\n",
      "Bad key verbose.fileo in file /srv/scratch/chananchidas/anaconda3/lib/python3.7/site-packages/matplotlib/mpl-data/stylelib/_classic_test.mplstyle, line 473 ('verbose.fileo  : sys.stdout  # a log filename, sys.stdout or sys.stderr')\n",
      "You probably need to get an updated matplotlibrc file from\n",
      "https://github.com/matplotlib/matplotlib/blob/v3.3.4/matplotlibrc.template\n",
      "or from the matplotlib source distribution\n",
      "In /srv/scratch/chananchidas/anaconda3/lib/python3.7/site-packages/matplotlib/mpl-data/stylelib/_classic_test.mplstyle: \n",
      "The text.latex.preview rcparam was deprecated in Matplotlib 3.3 and will be removed two minor releases later.\n",
      "In /srv/scratch/chananchidas/anaconda3/lib/python3.7/site-packages/matplotlib/mpl-data/stylelib/_classic_test.mplstyle: \n",
      "The mathtext.fallback_to_cm rcparam was deprecated in Matplotlib 3.3 and will be removed two minor releases later.\n",
      "In /srv/scratch/chananchidas/anaconda3/lib/python3.7/site-packages/matplotlib/mpl-data/stylelib/_classic_test.mplstyle: Support for setting the 'mathtext.fallback_to_cm' rcParam is deprecated since 3.3 and will be removed two minor releases later; use 'mathtext.fallback : 'cm' instead.\n",
      "In /srv/scratch/chananchidas/anaconda3/lib/python3.7/site-packages/matplotlib/mpl-data/stylelib/_classic_test.mplstyle: \n",
      "The validate_bool_maybe_none function was deprecated in Matplotlib 3.3 and will be removed two minor releases later.\n",
      "In /srv/scratch/chananchidas/anaconda3/lib/python3.7/site-packages/matplotlib/mpl-data/stylelib/_classic_test.mplstyle: \n",
      "The savefig.jpeg_quality rcparam was deprecated in Matplotlib 3.3 and will be removed two minor releases later.\n",
      "In /srv/scratch/chananchidas/anaconda3/lib/python3.7/site-packages/matplotlib/mpl-data/stylelib/_classic_test.mplstyle: \n",
      "The keymap.all_axes rcparam was deprecated in Matplotlib 3.3 and will be removed two minor releases later.\n",
      "In /srv/scratch/chananchidas/anaconda3/lib/python3.7/site-packages/matplotlib/mpl-data/stylelib/_classic_test.mplstyle: \n",
      "The animation.avconv_path rcparam was deprecated in Matplotlib 3.3 and will be removed two minor releases later.\n",
      "In /srv/scratch/chananchidas/anaconda3/lib/python3.7/site-packages/matplotlib/mpl-data/stylelib/_classic_test.mplstyle: \n",
      "The animation.avconv_args rcparam was deprecated in Matplotlib 3.3 and will be removed two minor releases later.\n"
     ]
    },
    {
     "name": "stdout",
     "output_type": "stream",
     "text": [
      "3.0.6\n"
     ]
    }
   ],
   "source": [
    "import scanpy as sc\n",
    "import loompy\n",
    "print(loompy.__version__)"
   ]
  },
  {
   "cell_type": "markdown",
   "metadata": {},
   "source": [
    "## allen_cortex_dwn"
   ]
  },
  {
   "cell_type": "code",
   "execution_count": 7,
   "metadata": {},
   "outputs": [],
   "source": [
    "possible_dataset_types = [\"real\", \"real_top1\",\"real_top1_uniform\",\"real_top2_overlap\",\"real_top2_overlap_uniform\",\n",
    "                           \"real_missing_celltypes_visium\", \"artificial_uniform_distinct\", \"artificial_diverse_distinct\",\n",
    "                           \"artificial_uniform_overlap\", \"artificial_diverse_overlap\", \"artificial_dominant_celltype_diverse\",\n",
    "                           \"artificial_partially_dominant_celltype_diverse\", \"artificial_missing_celltypes_visium\"]"
   ]
  },
  {
   "cell_type": "code",
   "execution_count": 3,
   "metadata": {},
   "outputs": [
    {
     "name": "stdout",
     "output_type": "stream",
     "text": [
      "artificial_diverse_overlap\n"
     ]
    },
    {
     "name": "stderr",
     "output_type": "stream",
     "text": [
      "... storing 'ClusterName' as categorical\n",
      "... storing 'SCT_snn_res_0_5' as categorical\n",
      "... storing 'orig_ident' as categorical\n",
      "... storing 'seurat_clusters' as categorical\n"
     ]
    }
   ],
   "source": [
    "for dataset_type in possible_dataset_types:\n",
    "    print(dataset_type)\n",
    "    adata = sc.read_loom(\"data/allen_cortex_dwn_\" + dataset_type + \"_synthvisium.loom\")\n",
    "    adata.write(\"data/allen_cortex_dwn_\" + dataset_type + \"_synthvisium.h5ad\")"
   ]
  },
  {
   "cell_type": "code",
   "execution_count": 62,
   "metadata": {},
   "outputs": [],
   "source": [
    "sp_data_folder = '/srv/scratch/chananchidas/data/raw/'\n",
    "sc_data_folder = '/srv/scratch/chananchidas/data/raw/'\n",
    "results_folder = '/srv/scratch/chananchidas/results/'"
   ]
  },
  {
   "cell_type": "code",
   "execution_count": 67,
   "metadata": {},
   "outputs": [],
   "source": [
    "dataset_type = \"real\"\n",
    "adata = sc.read_h5ad(sp_data_folder + \"allen_cortex_dwn_\" + dataset_type + \"_synthvisium.h5ad\")"
   ]
  },
  {
   "cell_type": "code",
   "execution_count": 71,
   "metadata": {},
   "outputs": [],
   "source": [
    "adata_ref = sc.read_h5ad(sc_data_folder + \"allen_cortex_dwn_original.h5ad\")"
   ]
  },
  {
   "cell_type": "markdown",
   "metadata": {},
   "source": [
    "## Batch 2"
   ]
  },
  {
   "cell_type": "code",
   "execution_count": 2,
   "metadata": {},
   "outputs": [],
   "source": [
    "datasets = ['brain_cortex_generation', 'cerebellum_cell_generation', 'cerebellum_nucleus_generation',\n",
    "            'hippocampus_generation', 'kidney_generation', 'pbmc_generation', 'scc_p5_generation']\n",
    "\n",
    "dataset_types = [\"artificial_uniform_distinct\", \"artificial_diverse_distinct\", \n",
    "                  \"artificial_uniform_overlap\", \"artificial_diverse_overlap\",\n",
    "                  \"artificial_dominant_celltype_diverse\",\n",
    "                  \"artificial_partially_dominant_celltype_diverse\",\n",
    "                  \"artificial_dominant_rare_celltype_diverse\",\n",
    "                  \"artificial_regional_rare_celltype_diverse\"]"
   ]
  },
  {
   "cell_type": "code",
   "execution_count": 4,
   "metadata": {},
   "outputs": [
    {
     "name": "stdout",
     "output_type": "stream",
     "text": [
      "scc_p5_generation artificial_dominant_rare_celltype_diverse\n",
      "scc_p5_generation artificial_regional_rare_celltype_diverse\n"
     ]
    },
    {
     "ename": "OSError",
     "evalue": "Unable to open file (file signature not found)",
     "output_type": "error",
     "traceback": [
      "\u001b[0;31m---------------------------------------------------------------------------\u001b[0m",
      "\u001b[0;31mOSError\u001b[0m                                   Traceback (most recent call last)",
      "\u001b[0;32m<ipython-input-4-7142292536e8>\u001b[0m in \u001b[0;36m<module>\u001b[0;34m\u001b[0m\n\u001b[1;32m      4\u001b[0m         \u001b[0mprint\u001b[0m\u001b[0;34m(\u001b[0m\u001b[0mdataset\u001b[0m\u001b[0;34m,\u001b[0m \u001b[0mdataset_type\u001b[0m\u001b[0;34m)\u001b[0m\u001b[0;34m\u001b[0m\u001b[0;34m\u001b[0m\u001b[0m\n\u001b[1;32m      5\u001b[0m         adata = sc.read_loom(input_folder + dataset + \"_\" + \\\n\u001b[0;32m----> 6\u001b[0;31m                              dataset_type + \"_synthvisium.loom\")\n\u001b[0m\u001b[1;32m      7\u001b[0m         \u001b[0madata\u001b[0m\u001b[0;34m.\u001b[0m\u001b[0mwrite\u001b[0m\u001b[0;34m(\u001b[0m\u001b[0minput_folder\u001b[0m \u001b[0;34m+\u001b[0m \u001b[0mdataset\u001b[0m \u001b[0;34m+\u001b[0m \u001b[0;34m\"_\"\u001b[0m \u001b[0;34m+\u001b[0m \u001b[0mdataset_type\u001b[0m \u001b[0;34m+\u001b[0m \u001b[0;34m\"_synthvisium.h5ad\"\u001b[0m\u001b[0;34m)\u001b[0m\u001b[0;34m\u001b[0m\u001b[0;34m\u001b[0m\u001b[0m\n",
      "\u001b[0;32m/srv/scratch/chananchidas/anaconda3/envs/stereoscope/lib/python3.7/site-packages/anndata/_io/read.py\u001b[0m in \u001b[0;36mread_loom\u001b[0;34m(filename, sparse, cleanup, X_name, obs_names, obsm_names, var_names, varm_names, dtype, **kwargs)\u001b[0m\n\u001b[1;32m    192\u001b[0m     \u001b[0;32mfrom\u001b[0m \u001b[0mloompy\u001b[0m \u001b[0;32mimport\u001b[0m \u001b[0mconnect\u001b[0m\u001b[0;34m\u001b[0m\u001b[0;34m\u001b[0m\u001b[0m\n\u001b[1;32m    193\u001b[0m \u001b[0;34m\u001b[0m\u001b[0m\n\u001b[0;32m--> 194\u001b[0;31m     \u001b[0;32mwith\u001b[0m \u001b[0mconnect\u001b[0m\u001b[0;34m(\u001b[0m\u001b[0mfilename\u001b[0m\u001b[0;34m,\u001b[0m \u001b[0;34m\"r\"\u001b[0m\u001b[0;34m,\u001b[0m \u001b[0;34m**\u001b[0m\u001b[0mkwargs\u001b[0m\u001b[0;34m)\u001b[0m \u001b[0;32mas\u001b[0m \u001b[0mlc\u001b[0m\u001b[0;34m:\u001b[0m\u001b[0;34m\u001b[0m\u001b[0;34m\u001b[0m\u001b[0m\n\u001b[0m\u001b[1;32m    195\u001b[0m         \u001b[0;32mif\u001b[0m \u001b[0mX_name\u001b[0m \u001b[0;32mnot\u001b[0m \u001b[0;32min\u001b[0m \u001b[0mlc\u001b[0m\u001b[0;34m.\u001b[0m\u001b[0mlayers\u001b[0m\u001b[0;34m.\u001b[0m\u001b[0mkeys\u001b[0m\u001b[0;34m(\u001b[0m\u001b[0;34m)\u001b[0m\u001b[0;34m:\u001b[0m\u001b[0;34m\u001b[0m\u001b[0;34m\u001b[0m\u001b[0m\n\u001b[1;32m    196\u001b[0m             \u001b[0mX_name\u001b[0m \u001b[0;34m=\u001b[0m \u001b[0;34m\"\"\u001b[0m\u001b[0;34m\u001b[0m\u001b[0;34m\u001b[0m\u001b[0m\n",
      "\u001b[0;32m/srv/scratch/chananchidas/anaconda3/envs/stereoscope/lib/python3.7/site-packages/loompy/loompy.py\u001b[0m in \u001b[0;36mconnect\u001b[0;34m(filename, mode, validate, spec_version)\u001b[0m\n\u001b[1;32m   1387\u001b[0m                 \u001b[0mNote\u001b[0m\u001b[0;34m:\u001b[0m \u001b[0;32mif\u001b[0m \u001b[0mvalidation\u001b[0m \u001b[0;32mis\u001b[0m \u001b[0mrequested\u001b[0m\u001b[0;34m,\u001b[0m \u001b[0man\u001b[0m \u001b[0mexception\u001b[0m \u001b[0;32mis\u001b[0m \u001b[0mraised\u001b[0m \u001b[0;32mif\u001b[0m \u001b[0mvalidation\u001b[0m \u001b[0mfails\u001b[0m\u001b[0;34m.\u001b[0m\u001b[0;34m\u001b[0m\u001b[0;34m\u001b[0m\u001b[0m\n\u001b[1;32m   1388\u001b[0m \t\"\"\"\n\u001b[0;32m-> 1389\u001b[0;31m         \u001b[0;32mreturn\u001b[0m \u001b[0mLoomConnection\u001b[0m\u001b[0;34m(\u001b[0m\u001b[0mfilename\u001b[0m\u001b[0;34m,\u001b[0m \u001b[0mmode\u001b[0m\u001b[0;34m,\u001b[0m \u001b[0mvalidate\u001b[0m\u001b[0;34m=\u001b[0m\u001b[0mvalidate\u001b[0m\u001b[0;34m)\u001b[0m\u001b[0;34m\u001b[0m\u001b[0;34m\u001b[0m\u001b[0m\n\u001b[0m",
      "\u001b[0;32m/srv/scratch/chananchidas/anaconda3/envs/stereoscope/lib/python3.7/site-packages/loompy/loompy.py\u001b[0m in \u001b[0;36m__init__\u001b[0;34m(self, filename, mode, validate)\u001b[0m\n\u001b[1;32m     79\u001b[0m                 \u001b[0;32mif\u001b[0m \u001b[0mvalidate\u001b[0m\u001b[0;34m:\u001b[0m\u001b[0;34m\u001b[0m\u001b[0;34m\u001b[0m\u001b[0m\n\u001b[1;32m     80\u001b[0m                         \u001b[0mlv\u001b[0m \u001b[0;34m=\u001b[0m \u001b[0mloompy\u001b[0m\u001b[0;34m.\u001b[0m\u001b[0mLoomValidator\u001b[0m\u001b[0;34m(\u001b[0m\u001b[0;34m)\u001b[0m\u001b[0;34m\u001b[0m\u001b[0;34m\u001b[0m\u001b[0m\n\u001b[0;32m---> 81\u001b[0;31m                         \u001b[0;32mif\u001b[0m \u001b[0;32mnot\u001b[0m \u001b[0mlv\u001b[0m\u001b[0;34m.\u001b[0m\u001b[0mvalidate\u001b[0m\u001b[0;34m(\u001b[0m\u001b[0mfilename\u001b[0m\u001b[0;34m)\u001b[0m\u001b[0;34m:\u001b[0m\u001b[0;34m\u001b[0m\u001b[0;34m\u001b[0m\u001b[0m\n\u001b[0m\u001b[1;32m     82\u001b[0m                                 \u001b[0;32mraise\u001b[0m \u001b[0mValueError\u001b[0m\u001b[0;34m(\u001b[0m\u001b[0;34m\"\\n\"\u001b[0m\u001b[0;34m.\u001b[0m\u001b[0mjoin\u001b[0m\u001b[0;34m(\u001b[0m\u001b[0mlv\u001b[0m\u001b[0;34m.\u001b[0m\u001b[0merrors\u001b[0m\u001b[0;34m)\u001b[0m \u001b[0;34m+\u001b[0m \u001b[0;34mf\"\\n{filename} does not appead to be a valid Loom file according to Loom spec version '{lv.version}'\"\u001b[0m\u001b[0;34m)\u001b[0m\u001b[0;34m\u001b[0m\u001b[0;34m\u001b[0m\u001b[0m\n\u001b[1;32m     83\u001b[0m \u001b[0;34m\u001b[0m\u001b[0m\n",
      "\u001b[0;32m/srv/scratch/chananchidas/anaconda3/envs/stereoscope/lib/python3.7/site-packages/loompy/loom_validator.py\u001b[0m in \u001b[0;36mvalidate\u001b[0;34m(self, path, strictness)\u001b[0m\n\u001b[1;32m     46\u001b[0m \t\t\"\"\"\n\u001b[1;32m     47\u001b[0m                 \u001b[0mvalid1\u001b[0m \u001b[0;34m=\u001b[0m \u001b[0;32mTrue\u001b[0m\u001b[0;34m\u001b[0m\u001b[0;34m\u001b[0m\u001b[0m\n\u001b[0;32m---> 48\u001b[0;31m                 \u001b[0;32mwith\u001b[0m \u001b[0mh5py\u001b[0m\u001b[0;34m.\u001b[0m\u001b[0mFile\u001b[0m\u001b[0;34m(\u001b[0m\u001b[0mpath\u001b[0m\u001b[0;34m,\u001b[0m \u001b[0mmode\u001b[0m\u001b[0;34m=\u001b[0m\u001b[0;34m\"r\"\u001b[0m\u001b[0;34m)\u001b[0m \u001b[0;32mas\u001b[0m \u001b[0mf\u001b[0m\u001b[0;34m:\u001b[0m\u001b[0;34m\u001b[0m\u001b[0;34m\u001b[0m\u001b[0m\n\u001b[0m\u001b[1;32m     49\u001b[0m                         \u001b[0;32mif\u001b[0m \u001b[0mself\u001b[0m\u001b[0;34m.\u001b[0m\u001b[0mversion\u001b[0m \u001b[0;34m==\u001b[0m \u001b[0;32mNone\u001b[0m\u001b[0;34m:\u001b[0m\u001b[0;34m\u001b[0m\u001b[0;34m\u001b[0m\u001b[0m\n\u001b[1;32m     50\u001b[0m                                 \u001b[0mself\u001b[0m\u001b[0;34m.\u001b[0m\u001b[0mversion\u001b[0m \u001b[0;34m=\u001b[0m \u001b[0mget_loom_spec_version\u001b[0m\u001b[0;34m(\u001b[0m\u001b[0mf\u001b[0m\u001b[0;34m)\u001b[0m\u001b[0;34m\u001b[0m\u001b[0;34m\u001b[0m\u001b[0m\n",
      "\u001b[0;32m/srv/scratch/chananchidas/anaconda3/envs/stereoscope/lib/python3.7/site-packages/h5py/_hl/files.py\u001b[0m in \u001b[0;36m__init__\u001b[0;34m(self, name, mode, driver, libver, userblock_size, swmr, rdcc_nslots, rdcc_nbytes, rdcc_w0, track_order, fs_strategy, fs_persist, fs_threshold, **kwds)\u001b[0m\n\u001b[1;32m    425\u001b[0m                                fapl, fcpl=make_fcpl(track_order=track_order, fs_strategy=fs_strategy,\n\u001b[1;32m    426\u001b[0m                                fs_persist=fs_persist, fs_threshold=fs_threshold),\n\u001b[0;32m--> 427\u001b[0;31m                                swmr=swmr)\n\u001b[0m\u001b[1;32m    428\u001b[0m \u001b[0;34m\u001b[0m\u001b[0m\n\u001b[1;32m    429\u001b[0m             \u001b[0;32mif\u001b[0m \u001b[0misinstance\u001b[0m\u001b[0;34m(\u001b[0m\u001b[0mlibver\u001b[0m\u001b[0;34m,\u001b[0m \u001b[0mtuple\u001b[0m\u001b[0;34m)\u001b[0m\u001b[0;34m:\u001b[0m\u001b[0;34m\u001b[0m\u001b[0;34m\u001b[0m\u001b[0m\n",
      "\u001b[0;32m/srv/scratch/chananchidas/anaconda3/envs/stereoscope/lib/python3.7/site-packages/h5py/_hl/files.py\u001b[0m in \u001b[0;36mmake_fid\u001b[0;34m(name, mode, userblock_size, fapl, fcpl, swmr)\u001b[0m\n\u001b[1;32m    188\u001b[0m         \u001b[0;32mif\u001b[0m \u001b[0mswmr\u001b[0m \u001b[0;32mand\u001b[0m \u001b[0mswmr_support\u001b[0m\u001b[0;34m:\u001b[0m\u001b[0;34m\u001b[0m\u001b[0;34m\u001b[0m\u001b[0m\n\u001b[1;32m    189\u001b[0m             \u001b[0mflags\u001b[0m \u001b[0;34m|=\u001b[0m \u001b[0mh5f\u001b[0m\u001b[0;34m.\u001b[0m\u001b[0mACC_SWMR_READ\u001b[0m\u001b[0;34m\u001b[0m\u001b[0;34m\u001b[0m\u001b[0m\n\u001b[0;32m--> 190\u001b[0;31m         \u001b[0mfid\u001b[0m \u001b[0;34m=\u001b[0m \u001b[0mh5f\u001b[0m\u001b[0;34m.\u001b[0m\u001b[0mopen\u001b[0m\u001b[0;34m(\u001b[0m\u001b[0mname\u001b[0m\u001b[0;34m,\u001b[0m \u001b[0mflags\u001b[0m\u001b[0;34m,\u001b[0m \u001b[0mfapl\u001b[0m\u001b[0;34m=\u001b[0m\u001b[0mfapl\u001b[0m\u001b[0;34m)\u001b[0m\u001b[0;34m\u001b[0m\u001b[0;34m\u001b[0m\u001b[0m\n\u001b[0m\u001b[1;32m    191\u001b[0m     \u001b[0;32melif\u001b[0m \u001b[0mmode\u001b[0m \u001b[0;34m==\u001b[0m \u001b[0;34m'r+'\u001b[0m\u001b[0;34m:\u001b[0m\u001b[0;34m\u001b[0m\u001b[0;34m\u001b[0m\u001b[0m\n\u001b[1;32m    192\u001b[0m         \u001b[0mfid\u001b[0m \u001b[0;34m=\u001b[0m \u001b[0mh5f\u001b[0m\u001b[0;34m.\u001b[0m\u001b[0mopen\u001b[0m\u001b[0;34m(\u001b[0m\u001b[0mname\u001b[0m\u001b[0;34m,\u001b[0m \u001b[0mh5f\u001b[0m\u001b[0;34m.\u001b[0m\u001b[0mACC_RDWR\u001b[0m\u001b[0;34m,\u001b[0m \u001b[0mfapl\u001b[0m\u001b[0;34m=\u001b[0m\u001b[0mfapl\u001b[0m\u001b[0;34m)\u001b[0m\u001b[0;34m\u001b[0m\u001b[0;34m\u001b[0m\u001b[0m\n",
      "\u001b[0;32mh5py/_objects.pyx\u001b[0m in \u001b[0;36mh5py._objects.with_phil.wrapper\u001b[0;34m()\u001b[0m\n",
      "\u001b[0;32mh5py/_objects.pyx\u001b[0m in \u001b[0;36mh5py._objects.with_phil.wrapper\u001b[0;34m()\u001b[0m\n",
      "\u001b[0;32mh5py/h5f.pyx\u001b[0m in \u001b[0;36mh5py.h5f.open\u001b[0;34m()\u001b[0m\n",
      "\u001b[0;31mOSError\u001b[0m: Unable to open file (file signature not found)"
     ]
    }
   ],
   "source": [
    "for dataset in datasets:\n",
    "    input_folder = \"data/\" + dataset + \"/\"\n",
    "    for dataset_type in dataset_types:\n",
    "        print(dataset, dataset_type)\n",
    "        adata = sc.read_loom(input_folder + dataset + \"_\" + \\\n",
    "                             dataset_type + \"_synthvisium.loom\")\n",
    "        adata.write(input_folder + dataset + \"_\" + dataset_type + \"_synthvisium.h5ad\")"
   ]
  },
  {
   "cell_type": "markdown",
   "metadata": {},
   "source": [
    "## Misc"
   ]
  },
  {
   "cell_type": "code",
   "execution_count": 4,
   "metadata": {},
   "outputs": [],
   "source": [
    "test_sets = ['brain_cortex_test.loom', 'cerebellum_cell_test.loom', 'cerebellum_nucleus_test.loom',\n",
    "             'hippocampus_test.loom','kidney_test.loom', 'pbmc_test.loom', 'scc_p5_test.loom']"
   ]
  },
  {
   "cell_type": "code",
   "execution_count": 8,
   "metadata": {},
   "outputs": [],
   "source": [
    "adata = sc.read_loom(path + \"cerebellum_cell_test.loom\")"
   ]
  },
  {
   "cell_type": "code",
   "execution_count": 9,
   "metadata": {},
   "outputs": [
    {
     "name": "stderr",
     "output_type": "stream",
     "text": [
      "... storing 'celltype' as categorical\n",
      "... storing 'cluster' as categorical\n",
      "... storing 'liger_ident' as categorical\n",
      "... storing 'liger_ident_coarse' as categorical\n",
      "... storing 'orig.ident' as categorical\n",
      "... storing 'regions' as categorical\n",
      "... storing 'tech' as categorical\n",
      "... storing 'celltype' as categorical\n",
      "... storing 'cluster' as categorical\n",
      "... storing 'liger_ident' as categorical\n",
      "... storing 'liger_ident_coarse' as categorical\n",
      "... storing 'orig.ident' as categorical\n",
      "... storing 'regions' as categorical\n",
      "... storing 'tech' as categorical\n",
      "... storing 'bio_celltype' as categorical\n",
      "... storing 'celltype' as categorical\n",
      "... storing 'celltype' as categorical\n",
      "... storing 'celltype' as categorical\n",
      "... storing 'celltype' as categorical\n",
      "... storing 'level1_celltype' as categorical\n",
      "... storing 'level2_celltype' as categorical\n",
      "... storing 'level3_celltype' as categorical\n",
      "... storing 'tum.norm' as categorical\n"
     ]
    }
   ],
   "source": [
    "path = \"../data/test_set/\"\n",
    "for test_set in test_sets[1:]:\n",
    "    adata = sc.read_loom(path + test_set)\n",
    "    adata.write(path + test_set.split(\".\")[0] + \".h5ad\")"
   ]
  },
  {
   "cell_type": "code",
   "execution_count": 3,
   "metadata": {},
   "outputs": [
    {
     "name": "stderr",
     "output_type": "stream",
     "text": [
      "... storing 'brain_hemisphere' as categorical\n",
      "... storing 'brain_region' as categorical\n",
      "... storing 'brain_subregion' as categorical\n",
      "... storing 'class' as categorical\n",
      "... storing 'cluster' as categorical\n",
      "... storing 'core_intermediate_call' as categorical\n",
      "... storing 'driver_lines' as categorical\n",
      "... storing 'eye_condition' as categorical\n",
      "... storing 'facs_container' as categorical\n",
      "... storing 'facs_date' as categorical\n",
      "... storing 'facs_sort_criteria' as categorical\n",
      "... storing 'genotype' as categorical\n",
      "... storing 'injection_exclusion_criterion' as categorical\n",
      "... storing 'injection_label_direction' as categorical\n",
      "... storing 'injection_material' as categorical\n",
      "... storing 'injection_primary' as categorical\n",
      "... storing 'injection_secondary' as categorical\n",
      "... storing 'injection_tract' as categorical\n",
      "... storing 'organism' as categorical\n",
      "... storing 'reporter_lines' as categorical\n",
      "... storing 'rna_amplification_set' as categorical\n",
      "... storing 'sample_type' as categorical\n",
      "... storing 'seq_batch' as categorical\n",
      "... storing 'seq_tube' as categorical\n",
      "... storing 'sex' as categorical\n",
      "... storing 'subclass' as categorical\n"
     ]
    }
   ],
   "source": [
    "adata = sc.read_loom(\"data/seurat_obj_scrnaseq_cortex_filtered_rawcounts.loom\")\n",
    "adata.write(\"data/seurat_obj_scrnaseq_cortex_filtered_rawcounts.h5ad\")"
   ]
  }
 ],
 "metadata": {
  "kernelspec": {
   "display_name": "Python 3",
   "language": "python",
   "name": "python3"
  },
  "language_info": {
   "codemirror_mode": {
    "name": "ipython",
    "version": 3
   },
   "file_extension": ".py",
   "mimetype": "text/x-python",
   "name": "python",
   "nbconvert_exporter": "python",
   "pygments_lexer": "ipython3",
   "version": "3.7.8"
  }
 },
 "nbformat": 4,
 "nbformat_minor": 4
}
